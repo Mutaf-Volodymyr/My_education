{
 "cells": [
  {
   "cell_type": "code",
   "execution_count": 1,
   "id": "0365d64c-1b20-46fc-8877-5e0741e91a5c",
   "metadata": {},
   "outputs": [],
   "source": [
    "import numpy as np"
   ]
  },
  {
   "cell_type": "code",
   "execution_count": 2,
   "id": "ade08119-26e6-435a-a9c0-d90001de0899",
   "metadata": {},
   "outputs": [
    {
     "data": {
      "text/plain": [
       "array([19.99, 29.99, 14.99,  9.99, 24.99])"
      ]
     },
     "execution_count": 2,
     "metadata": {},
     "output_type": "execute_result"
    }
   ],
   "source": [
    "prices = np.array(\n",
    "    [19.99, 29.99,  14.99, 9.99, 24.99]\n",
    ")\n",
    "prices"
   ]
  },
  {
   "cell_type": "code",
   "execution_count": 3,
   "id": "d955302e-b6d1-4ca4-b30e-d7d36bec8769",
   "metadata": {},
   "outputs": [
    {
     "data": {
      "text/plain": [
       "array([10,  5,  8, 12,  3])"
      ]
     },
     "execution_count": 3,
     "metadata": {},
     "output_type": "execute_result"
    }
   ],
   "source": [
    "quatities = np.array(\n",
    "    [10, 5, 8, 12, 3]\n",
    ")\n",
    "quatities"
   ]
  },
  {
   "cell_type": "code",
   "execution_count": 8,
   "id": "bc80dc0e-cf6b-4d72-8f62-d4b384252164",
   "metadata": {},
   "outputs": [
    {
     "data": {
      "text/plain": [
       "np.float64(664.62)"
      ]
     },
     "execution_count": 8,
     "metadata": {},
     "output_type": "execute_result"
    }
   ],
   "source": [
    "total_money = np.sum(prices * quatities)\n",
    "total_money"
   ]
  },
  {
   "cell_type": "markdown",
   "id": "db28b486-9ceb-48d6-b2f1-0402b62fb757",
   "metadata": {},
   "source": [
    "## 2. Analaizin Blog\n"
   ]
  },
  {
   "cell_type": "code",
   "execution_count": 10,
   "id": "8d23aae5-eb7a-42dd-837b-0e60416d6dfd",
   "metadata": {},
   "outputs": [
    {
     "data": {
      "text/plain": [
       "array([1000,  500,  800, 1200,  300,  600])"
      ]
     },
     "execution_count": 10,
     "metadata": {},
     "output_type": "execute_result"
    }
   ],
   "source": [
    "views = np.array(\n",
    "    [1000, 500, 800, 1200, 300, 600]\n",
    ")\n",
    "views"
   ]
  },
  {
   "cell_type": "code",
   "execution_count": 11,
   "id": "5a5d7387-d57d-4ab8-b53d-0f42477f4496",
   "metadata": {},
   "outputs": [
    {
     "data": {
      "text/plain": [
       "np.int64(1200)"
      ]
     },
     "execution_count": 11,
     "metadata": {},
     "output_type": "execute_result"
    }
   ],
   "source": [
    "max_views = np.max(views)\n",
    "max_views"
   ]
  },
  {
   "cell_type": "code",
   "execution_count": 12,
   "id": "6b31c1e9-3bb0-441a-810a-5dba6fe0fa0d",
   "metadata": {},
   "outputs": [
    {
     "data": {
      "text/plain": [
       "np.int64(300)"
      ]
     },
     "execution_count": 12,
     "metadata": {},
     "output_type": "execute_result"
    }
   ],
   "source": [
    "min_views = np.min(views)\n",
    "min_views"
   ]
  },
  {
   "cell_type": "code",
   "execution_count": 13,
   "id": "201c4fa8-0787-4b1b-b6d7-cb4e65573fc5",
   "metadata": {},
   "outputs": [
    {
     "data": {
      "text/plain": [
       "np.float64(733.33)"
      ]
     },
     "execution_count": 13,
     "metadata": {},
     "output_type": "execute_result"
    }
   ],
   "source": [
    "avg_views = np.round(np.mean(views), 2)\n",
    "avg_views"
   ]
  },
  {
   "cell_type": "markdown",
   "id": "04bd24a3-d0c2-4bfd-9afe-b4b79c4014b7",
   "metadata": {},
   "source": [
    "## 3. Splitting Orders"
   ]
  },
  {
   "cell_type": "code",
   "execution_count": 15,
   "id": "39a16994-53e8-4fed-b832-76c0c96938b2",
   "metadata": {},
   "outputs": [
    {
     "data": {
      "text/plain": [
       "array([1001, 1002, 1003, 1004, 1005, 1006, 1007, 1008, 1009])"
      ]
     },
     "execution_count": 15,
     "metadata": {},
     "output_type": "execute_result"
    }
   ],
   "source": [
    "order_ids = np.arange(1001, 1010)\n",
    "order_ids"
   ]
  },
  {
   "cell_type": "code",
   "execution_count": 17,
   "id": "3debfedb-34fb-47e5-9e72-7bd3ebccfd00",
   "metadata": {},
   "outputs": [
    {
     "data": {
      "text/plain": [
       "[array([1001, 1002, 1003]),\n",
       " array([1004, 1005, 1006]),\n",
       " array([1007, 1008, 1009])]"
      ]
     },
     "execution_count": 17,
     "metadata": {},
     "output_type": "execute_result"
    }
   ],
   "source": [
    "batches = np.split(order_ids, 3)\n",
    "batches"
   ]
  },
  {
   "cell_type": "code",
   "execution_count": 20,
   "id": "cf68b5b2-8720-4eb2-91c6-5f8197801db3",
   "metadata": {},
   "outputs": [
    {
     "name": "stdout",
     "output_type": "stream",
     "text": [
      "1001\n",
      "1004\n",
      "1007\n"
     ]
    }
   ],
   "source": [
    "for batche in batches:\n",
    "    print(batche[0])"
   ]
  },
  {
   "cell_type": "markdown",
   "id": "1efc03b5-bcdc-4752-a732-5b7189879c7f",
   "metadata": {},
   "source": [
    "## 4. Categorizing Product Rating"
   ]
  },
  {
   "cell_type": "code",
   "execution_count": 22,
   "id": "47f6f063-befa-4bd8-b953-ea8551498af6",
   "metadata": {},
   "outputs": [
    {
     "data": {
      "text/plain": [
       "array([4.5, 3.2, 2.8, 4. , 4.1, 3.9, 2.5, 4.7])"
      ]
     },
     "execution_count": 22,
     "metadata": {},
     "output_type": "execute_result"
    }
   ],
   "source": [
    "ratings = np.array(\n",
    "    [4.5, 3.2, 2.8, 4.0, 4.1, 3.9, 2.5, 4.7]\n",
    ")\n",
    "ratings"
   ]
  },
  {
   "cell_type": "code",
   "execution_count": 24,
   "id": "b9ee1ec0-cc06-4a79-a587-2b1664800994",
   "metadata": {},
   "outputs": [
    {
     "data": {
      "text/plain": [
       "array([4.5, 4. , 4.1, 4.7])"
      ]
     },
     "execution_count": 24,
     "metadata": {},
     "output_type": "execute_result"
    }
   ],
   "source": [
    "pozitiv_ratings = ratings[ratings >= 4.0]\n",
    "pozitiv_ratings"
   ]
  },
  {
   "cell_type": "markdown",
   "id": "d0864ac8-84c6-4bcf-9cce-ef49c576689f",
   "metadata": {},
   "source": [
    "## 5. Calculate Total and AVG qty sold"
   ]
  },
  {
   "cell_type": "code",
   "execution_count": 36,
   "id": "c6ef6932-13b1-44c4-a4a5-674185186895",
   "metadata": {},
   "outputs": [
    {
     "data": {
      "text/plain": [
       "array([[ 5,  3,  2,  7],\n",
       "       [10,  6,  3,  9]])"
      ]
     },
     "execution_count": 36,
     "metadata": {},
     "output_type": "execute_result"
    }
   ],
   "source": [
    "order_qty = np.array([\n",
    "    [5, 3, 2, 7],\n",
    "    [10, 6, 3, 9]\n",
    "])\n",
    "otder_qty"
   ]
  },
  {
   "cell_type": "code",
   "execution_count": 40,
   "id": "a8f65329-348f-4467-b1f1-5e4895dccc69",
   "metadata": {},
   "outputs": [
    {
     "data": {
      "text/plain": [
       "array([15,  9,  5, 16])"
      ]
     },
     "execution_count": 40,
     "metadata": {},
     "output_type": "execute_result"
    }
   ],
   "source": [
    "total_qty_sold = np.sum(order_qty, axis=0)\n",
    "total_qty_sold"
   ]
  },
  {
   "cell_type": "code",
   "execution_count": 41,
   "id": "5610f738-cb7d-4010-bab3-75df9d6741dd",
   "metadata": {},
   "outputs": [
    {
     "data": {
      "text/plain": [
       "array([7.5, 4.5, 2.5, 8. ])"
      ]
     },
     "execution_count": 41,
     "metadata": {},
     "output_type": "execute_result"
    }
   ],
   "source": [
    "avg_qty_sold = np.mean(order_qty, axis=0)\n",
    "avg_qty_sold"
   ]
  },
  {
   "cell_type": "markdown",
   "id": "316f5aaf-1957-4437-a84e-e65f0a257604",
   "metadata": {},
   "source": [
    "## 6. Calculate product Rating"
   ]
  },
  {
   "cell_type": "code",
   "execution_count": 42,
   "id": "87a1156d-6980-44f0-9a87-d6e4c995df2b",
   "metadata": {},
   "outputs": [
    {
     "data": {
      "text/plain": [
       "[[4.5, 3.2, 2.5, 5.0], [4.3, 3.8, 1.0, 4.8], [2.0, 3.6, 4.7, 0.5]]"
      ]
     },
     "execution_count": 42,
     "metadata": {},
     "output_type": "execute_result"
    }
   ],
   "source": [
    "product_rating = ([\n",
    "    [4.5, 3.2, 2.5, 5.0],\n",
    "    [4.3, 3.8, 1.0, 4.8],\n",
    "    [2.0, 3.6, 4.7, 0.5]\n",
    "])\n",
    "product_rating"
   ]
  },
  {
   "cell_type": "code",
   "execution_count": 44,
   "id": "990f4cbd-a8ad-4b96-9c74-a7cdadbfff7b",
   "metadata": {},
   "outputs": [
    {
     "data": {
      "text/plain": [
       "array([3.6       , 3.53333333, 2.73333333, 3.43333333])"
      ]
     },
     "execution_count": 44,
     "metadata": {},
     "output_type": "execute_result"
    }
   ],
   "source": [
    "avg_rating_per_category = np.mean(product_rating, axis=0)\n",
    "avg_rating_per_category"
   ]
  },
  {
   "cell_type": "code",
   "execution_count": 45,
   "id": "2f43e432-842e-4c27-9e89-6d180e924849",
   "metadata": {},
   "outputs": [
    {
     "data": {
      "text/plain": [
       "array([3.8  , 3.475, 2.7  ])"
      ]
     },
     "execution_count": 45,
     "metadata": {},
     "output_type": "execute_result"
    }
   ],
   "source": [
    "avg_rating_per_product = np.mean(product_rating, axis=1)\n",
    "avg_rating_per_product"
   ]
  },
  {
   "cell_type": "code",
   "execution_count": 46,
   "id": "69aafa14-fb1a-4e54-b9f2-489c43c1102a",
   "metadata": {},
   "outputs": [
    {
     "data": {
      "text/plain": [
       "array([5. , 4.8, 4.7])"
      ]
     },
     "execution_count": 46,
     "metadata": {},
     "output_type": "execute_result"
    }
   ],
   "source": [
    "max_rating_per_product = np.max(product_rating, axis=1)\n",
    "max_rating_per_product"
   ]
  },
  {
   "cell_type": "markdown",
   "id": "936f6617-a045-45e7-8f04-8dece93fd3ef",
   "metadata": {},
   "source": [
    "## 7. Genaration of thr sample stock data"
   ]
  },
  {
   "cell_type": "code",
   "execution_count": 47,
   "id": "343c0349-ac92-4b1b-b888-76340a988fb1",
   "metadata": {},
   "outputs": [],
   "source": [
    "companies = ['Google', 'Aple', 'Amazon']\n",
    "days = ['Mon 1 April', 'Thu 2 April']\n",
    "prise_typs = ['Open', 'Close', 'Hith', 'Low']"
   ]
  },
  {
   "cell_type": "code",
   "execution_count": 49,
   "id": "4d4ff376-d3b6-40bb-a62b-34ad445a5e3b",
   "metadata": {},
   "outputs": [
    {
     "data": {
      "text/plain": [
       "array([[[0.417, 0.72 , 0.   , 0.302],\n",
       "        [0.147, 0.092, 0.186, 0.346]],\n",
       "\n",
       "       [[0.397, 0.539, 0.419, 0.685],\n",
       "        [0.204, 0.878, 0.027, 0.67 ]],\n",
       "\n",
       "       [[0.417, 0.559, 0.14 , 0.198],\n",
       "        [0.801, 0.968, 0.313, 0.692]]])"
      ]
     },
     "execution_count": 49,
     "metadata": {},
     "output_type": "execute_result"
    }
   ],
   "source": [
    "np.random.seed(1)\n",
    "stock_prises = np.round(np.random.random(\n",
    "    (len(companies), len(days), len(prise_typs))\n",
    "), 3)\n",
    "stock_prises"
   ]
  },
  {
   "cell_type": "code",
   "execution_count": 53,
   "id": "7de7392a-a972-49a6-8a84-b96eba27c087",
   "metadata": {},
   "outputs": [
    {
     "name": "stdout",
     "output_type": "stream",
     "text": [
      "Stock price of company: Google\n",
      "Day: Mon 1 April\n",
      "Open Price: 0.417\n",
      "Close Price: 0.72\n",
      "Hith Price: 0.0\n",
      "Low Price: 0.302\n",
      "\n",
      "Day: Thu 2 April\n",
      "Open Price: 0.147\n",
      "Close Price: 0.092\n",
      "Hith Price: 0.186\n",
      "Low Price: 0.346\n",
      "\n",
      "Stock price of company: Aple\n",
      "Day: Mon 1 April\n",
      "Open Price: 0.397\n",
      "Close Price: 0.539\n",
      "Hith Price: 0.419\n",
      "Low Price: 0.685\n",
      "\n",
      "Day: Thu 2 April\n",
      "Open Price: 0.204\n",
      "Close Price: 0.878\n",
      "Hith Price: 0.027\n",
      "Low Price: 0.67\n",
      "\n",
      "Stock price of company: Amazon\n",
      "Day: Mon 1 April\n",
      "Open Price: 0.417\n",
      "Close Price: 0.559\n",
      "Hith Price: 0.14\n",
      "Low Price: 0.198\n",
      "\n",
      "Day: Thu 2 April\n",
      "Open Price: 0.801\n",
      "Close Price: 0.968\n",
      "Hith Price: 0.313\n",
      "Low Price: 0.692\n",
      "\n"
     ]
    }
   ],
   "source": [
    "for i, company in enumerate(companies):\n",
    "    print(f'Stock price of company: {company}')\n",
    "    \n",
    "    for j, day in enumerate(days):\n",
    "        print(f'Day: {day}')\n",
    "        \n",
    "        for k, prise_type in enumerate(prise_typs):\n",
    "            print(f'{prise_type} Price: {stock_prises[i, j, k]}')\n",
    "        print()  \n",
    "    "
   ]
  }
 ],
 "metadata": {
  "kernelspec": {
   "display_name": "Python 3 (ipykernel)",
   "language": "python",
   "name": "python3"
  },
  "language_info": {
   "codemirror_mode": {
    "name": "ipython",
    "version": 3
   },
   "file_extension": ".py",
   "mimetype": "text/x-python",
   "name": "python",
   "nbconvert_exporter": "python",
   "pygments_lexer": "ipython3",
   "version": "3.12.3"
  }
 },
 "nbformat": 4,
 "nbformat_minor": 5
}
