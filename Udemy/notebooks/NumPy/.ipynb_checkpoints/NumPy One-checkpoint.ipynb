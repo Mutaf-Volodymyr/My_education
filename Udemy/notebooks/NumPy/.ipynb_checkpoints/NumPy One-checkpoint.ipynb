{
 "cells": [
  {
   "cell_type": "code",
   "execution_count": 3,
   "id": "e3b17327-94c5-46ca-88e6-32516d061594",
   "metadata": {},
   "outputs": [],
   "source": [
    "import numpy as np"
   ]
  },
  {
   "cell_type": "code",
   "execution_count": 6,
   "id": "7b5731f5-8fe0-4eb2-9a25-419304001feb",
   "metadata": {},
   "outputs": [
    {
     "data": {
      "text/plain": [
       "array([1, 2, 3, 4])"
      ]
     },
     "execution_count": 6,
     "metadata": {},
     "output_type": "execute_result"
    }
   ],
   "source": [
    "nums_arry = np.array([1, 2, 3, 4])\n",
    "nums_arry"
   ]
  },
  {
   "cell_type": "code",
   "execution_count": 7,
   "id": "7b602301-2303-4df8-b817-9dab1b58f66a",
   "metadata": {},
   "outputs": [
    {
     "data": {
      "text/plain": [
       "numpy.ndarray"
      ]
     },
     "execution_count": 7,
     "metadata": {},
     "output_type": "execute_result"
    }
   ],
   "source": [
    "type(nums_arry)"
   ]
  },
  {
   "cell_type": "code",
   "execution_count": 8,
   "id": "54c475d0-215c-4fc0-8db9-d431e5162d93",
   "metadata": {},
   "outputs": [
    {
     "data": {
      "text/plain": [
       "np.int64(1)"
      ]
     },
     "execution_count": 8,
     "metadata": {},
     "output_type": "execute_result"
    }
   ],
   "source": [
    "nums_arry[0]"
   ]
  },
  {
   "cell_type": "code",
   "execution_count": 9,
   "id": "dba0f657-d710-4403-aa0b-fdedd97a08b4",
   "metadata": {},
   "outputs": [
    {
     "data": {
      "text/plain": [
       "np.int64(4)"
      ]
     },
     "execution_count": 9,
     "metadata": {},
     "output_type": "execute_result"
    }
   ],
   "source": [
    "nums_arry[-1]"
   ]
  },
  {
   "cell_type": "code",
   "execution_count": 10,
   "id": "4a56d556-21f0-4485-8d89-15c74d853965",
   "metadata": {},
   "outputs": [
    {
     "data": {
      "text/plain": [
       "(4,)"
      ]
     },
     "execution_count": 10,
     "metadata": {},
     "output_type": "execute_result"
    }
   ],
   "source": [
    "nums_arry.shape"
   ]
  },
  {
   "cell_type": "code",
   "execution_count": 11,
   "id": "b3448731-6dc9-4f02-bdf3-2444fa1f2055",
   "metadata": {},
   "outputs": [
    {
     "data": {
      "text/plain": [
       "1"
      ]
     },
     "execution_count": 11,
     "metadata": {},
     "output_type": "execute_result"
    }
   ],
   "source": [
    "nums_arry.ndim"
   ]
  },
  {
   "cell_type": "code",
   "execution_count": 12,
   "id": "8dda4e99-00b5-4309-8a98-4030be319128",
   "metadata": {},
   "outputs": [
    {
     "data": {
      "text/plain": [
       "4"
      ]
     },
     "execution_count": 12,
     "metadata": {},
     "output_type": "execute_result"
    }
   ],
   "source": [
    "nums_arry.size"
   ]
  },
  {
   "cell_type": "code",
   "execution_count": 13,
   "id": "e01463c8-ace6-47de-8ea5-0bf8b8220d74",
   "metadata": {},
   "outputs": [
    {
     "data": {
      "text/plain": [
       "dtype('int64')"
      ]
     },
     "execution_count": 13,
     "metadata": {},
     "output_type": "execute_result"
    }
   ],
   "source": [
    "nums_arry.dtype"
   ]
  },
  {
   "cell_type": "code",
   "execution_count": 14,
   "id": "8ac7bf27-70b9-46c1-bab0-a2741a15431a",
   "metadata": {},
   "outputs": [
    {
     "data": {
      "text/plain": [
       "8"
      ]
     },
     "execution_count": 14,
     "metadata": {},
     "output_type": "execute_result"
    }
   ],
   "source": [
    "nums_arry.itemsize"
   ]
  },
  {
   "cell_type": "code",
   "execution_count": 19,
   "id": "1840d761-afae-4c37-8cfb-fe85e06dbe0a",
   "metadata": {},
   "outputs": [],
   "source": [
    "str_array = np.array([True, 10, 'abc', 5.5])"
   ]
  },
  {
   "cell_type": "code",
   "execution_count": 20,
   "id": "5acc0317-67a5-46ab-94d5-85bcd29b68d0",
   "metadata": {},
   "outputs": [
    {
     "data": {
      "text/plain": [
       "128"
      ]
     },
     "execution_count": 20,
     "metadata": {},
     "output_type": "execute_result"
    }
   ],
   "source": [
    "str_array.itemsize"
   ]
  },
  {
   "cell_type": "code",
   "execution_count": 21,
   "id": "57ebb876-326b-4e64-89dd-150cda5f11c7",
   "metadata": {},
   "outputs": [
    {
     "data": {
      "text/plain": [
       "array([{'city': 'London'}, {'city': 'Boston'}], dtype=object)"
      ]
     },
     "execution_count": 21,
     "metadata": {},
     "output_type": "execute_result"
    }
   ],
   "source": [
    "obj_array = np.array([{'city': 'London'}, {'city': 'Boston'}])\n",
    "obj_array"
   ]
  },
  {
   "cell_type": "code",
   "execution_count": 22,
   "id": "bcfdb2cc-c071-40b5-a19f-ee25ff18dc51",
   "metadata": {},
   "outputs": [
    {
     "data": {
      "text/plain": [
       "'object'"
      ]
     },
     "execution_count": 22,
     "metadata": {},
     "output_type": "execute_result"
    }
   ],
   "source": [
    "obj_array.dtype.name"
   ]
  }
 ],
 "metadata": {
  "kernelspec": {
   "display_name": "Python 3 (ipykernel)",
   "language": "python",
   "name": "python3"
  },
  "language_info": {
   "codemirror_mode": {
    "name": "ipython",
    "version": 3
   },
   "file_extension": ".py",
   "mimetype": "text/x-python",
   "name": "python",
   "nbconvert_exporter": "python",
   "pygments_lexer": "ipython3",
   "version": "3.12.3"
  }
 },
 "nbformat": 4,
 "nbformat_minor": 5
}
