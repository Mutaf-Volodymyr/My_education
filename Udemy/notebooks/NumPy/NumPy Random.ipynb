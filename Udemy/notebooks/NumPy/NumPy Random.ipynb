{
 "cells": [
  {
   "cell_type": "code",
   "execution_count": 2,
   "id": "4b59e180-0d53-4505-9c03-315e2ab57063",
   "metadata": {},
   "outputs": [],
   "source": [
    "import numpy as np"
   ]
  },
  {
   "cell_type": "code",
   "execution_count": 6,
   "id": "b107c818-6da6-4814-95e9-c6673f7321d1",
   "metadata": {},
   "outputs": [
    {
     "data": {
      "text/plain": [
       "array([[0, 0, 0, 0],\n",
       "       [0, 0, 0, 0]])"
      ]
     },
     "execution_count": 6,
     "metadata": {},
     "output_type": "execute_result"
    }
   ],
   "source": [
    "np.zeros((2, 4), dtype=int)"
   ]
  },
  {
   "cell_type": "code",
   "execution_count": 7,
   "id": "a61f21d4-5277-4e88-a28c-d01760ab2e5e",
   "metadata": {},
   "outputs": [
    {
     "data": {
      "text/plain": [
       "array([[1, 1, 1, 1],\n",
       "       [1, 1, 1, 1]])"
      ]
     },
     "execution_count": 7,
     "metadata": {},
     "output_type": "execute_result"
    }
   ],
   "source": [
    "np.ones((2, 4), dtype=int)"
   ]
  },
  {
   "cell_type": "code",
   "execution_count": 34,
   "id": "e6dd95e8-7610-4db3-b34e-48f39db24495",
   "metadata": {},
   "outputs": [
    {
     "data": {
      "text/plain": [
       "array([[0.77132064, 0.02075195, 0.63364823, 0.74880388],\n",
       "       [0.49850701, 0.22479665, 0.19806286, 0.76053071]])"
      ]
     },
     "execution_count": 34,
     "metadata": {},
     "output_type": "execute_result"
    }
   ],
   "source": [
    "np.random.seed(10)\n",
    "np.random.random((2, 4))"
   ]
  },
  {
   "cell_type": "code",
   "execution_count": 36,
   "id": "dd5ccd9c-5860-420d-9dac-f99bc2a944d9",
   "metadata": {},
   "outputs": [
    {
     "data": {
      "text/plain": [
       "array([[10, 18, 16, 14],\n",
       "       [13, 10, 14, 16]])"
      ]
     },
     "execution_count": 36,
     "metadata": {},
     "output_type": "execute_result"
    }
   ],
   "source": [
    "np.random.randint(10, 20, size=(2, 4))"
   ]
  },
  {
   "cell_type": "code",
   "execution_count": 37,
   "id": "b7c29903-8571-42d8-9626-860ecd0c9a36",
   "metadata": {},
   "outputs": [
    {
     "data": {
      "text/plain": [
       "array([[90.17348776, 27.83096317, 12.75549885, 88.98534459, 75.46919623,\n",
       "        58.67928381, 21.83123372, 47.2300637 , 80.08559274, 62.55112291],\n",
       "       [26.43682927, 84.3474023 , 19.48616501, 35.52190107, 15.90069397,\n",
       "        15.07997687, 78.89102364, 11.06092264, 65.0749007 , 39.86940301],\n",
       "       [60.36835289, 40.19496819, 47.00642914, 16.91699516, 86.77386913,\n",
       "        49.598871  , 20.97587324, 75.85611622, 22.49042189, 79.01920443],\n",
       "       [84.8790791 , 37.88002497, 63.78240613, 88.51532139, 98.47187802,\n",
       "        52.06629511, 88.81700453, 36.6461829 , 21.81619476, 85.85361401],\n",
       "       [69.31326735, 63.58956445, 49.27183285, 42.06252941, 62.84178327,\n",
       "        23.45242033, 25.41147384, 45.74480706, 67.41564079, 43.52679568],\n",
       "       [10.21660852, 59.39347202, 21.42746573, 17.18134126, 31.15347363,\n",
       "        69.39684525, 29.34578727, 28.27419541, 44.45785998, 30.23855222],\n",
       "       [20.31839193, 62.47153464, 30.93769565, 60.08663691, 57.14297964,\n",
       "        41.58624014, 73.47984518, 83.86333671, 22.11067031, 64.4253544 ],\n",
       "       [35.48334485, 55.57670379, 13.46143855, 39.91996863, 10.02452783,\n",
       "        69.81899195, 43.96965983, 77.28237716, 22.65182037, 44.9244508 ],\n",
       "       [87.98424766, 96.11679937, 53.78983019, 19.53397527, 40.60335598,\n",
       "        85.20137144, 51.88974635, 18.35704972, 86.92247291, 40.35323673],\n",
       "       [64.55320761, 20.13981405, 58.95284021, 74.87187239, 87.92338298,\n",
       "        23.20310116, 19.30429628, 54.14992113, 12.62616002, 63.53748548]])"
      ]
     },
     "execution_count": 37,
     "metadata": {},
     "output_type": "execute_result"
    }
   ],
   "source": [
    "np.random.uniform(low=10, high=100, size=(10, 10))"
   ]
  },
  {
   "cell_type": "code",
   "execution_count": 38,
   "id": "09f32d80-1d5a-410a-ae04-a1986bbc0a53",
   "metadata": {},
   "outputs": [
    {
     "data": {
      "text/plain": [
       "array([75.46919623, 47.2300637 , 47.2300637 , 47.2300637 , 62.55112291])"
      ]
     },
     "execution_count": 38,
     "metadata": {},
     "output_type": "execute_result"
    }
   ],
   "source": [
    "np.random.choice(np.array([90.17348776, 27.83096317, 12.75549885, 88.98534459, 75.46919623,\n",
    "        58.67928381, 21.83123372, 47.2300637 , 80.08559274, 62.55112291]), size=5)"
   ]
  },
  {
   "cell_type": "code",
   "execution_count": null,
   "id": "4bbd2870-e927-4879-89f1-b11ebdd4b0e5",
   "metadata": {},
   "outputs": [],
   "source": []
  }
 ],
 "metadata": {
  "kernelspec": {
   "display_name": "Python 3 (ipykernel)",
   "language": "python",
   "name": "python3"
  },
  "language_info": {
   "codemirror_mode": {
    "name": "ipython",
    "version": 3
   },
   "file_extension": ".py",
   "mimetype": "text/x-python",
   "name": "python",
   "nbconvert_exporter": "python",
   "pygments_lexer": "ipython3",
   "version": "3.12.3"
  }
 },
 "nbformat": 4,
 "nbformat_minor": 5
}
