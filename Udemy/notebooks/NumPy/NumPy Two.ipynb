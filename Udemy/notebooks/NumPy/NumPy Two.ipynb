{
 "cells": [
  {
   "cell_type": "code",
   "execution_count": 3,
   "id": "4964a327-d3ca-483a-a0dc-af3c1696fd08",
   "metadata": {},
   "outputs": [],
   "source": [
    "import numpy as np"
   ]
  },
  {
   "cell_type": "code",
   "execution_count": 11,
   "id": "84eebed0-46f0-48ac-8ce9-4f74355a975c",
   "metadata": {},
   "outputs": [
    {
     "data": {
      "text/plain": [
       "array([[1, 2, 3],\n",
       "       [4, 5, 6]])"
      ]
     },
     "execution_count": 11,
     "metadata": {},
     "output_type": "execute_result"
    }
   ],
   "source": [
    "first = np.array([[1, 2, 3],\n",
    "                  [4, 5, 6]])\n",
    "first"
   ]
  },
  {
   "cell_type": "code",
   "execution_count": 9,
   "id": "7048f6e7-0ef2-4fa8-b7bc-054648706b12",
   "metadata": {},
   "outputs": [
    {
     "data": {
      "text/plain": [
       "(2, 3)"
      ]
     },
     "execution_count": 9,
     "metadata": {},
     "output_type": "execute_result"
    }
   ],
   "source": [
    "first.shape"
   ]
  },
  {
   "cell_type": "code",
   "execution_count": 10,
   "id": "fb376bc3-8abc-4f18-824c-b6654c9f6214",
   "metadata": {},
   "outputs": [
    {
     "data": {
      "text/plain": [
       "2"
      ]
     },
     "execution_count": 10,
     "metadata": {},
     "output_type": "execute_result"
    }
   ],
   "source": [
    "first.ndim"
   ]
  },
  {
   "cell_type": "code",
   "execution_count": 12,
   "id": "e57d61c6-14df-4842-aa7e-0b907fb61137",
   "metadata": {},
   "outputs": [],
   "source": [
    "second = np.array([[7, 8, 9],\n",
    "                  [10, 11, 12]])"
   ]
  },
  {
   "cell_type": "code",
   "execution_count": 13,
   "id": "9e79c218-f4a8-429d-8624-1863d91f213a",
   "metadata": {},
   "outputs": [
    {
     "data": {
      "text/plain": [
       "array([[ 8, 10, 12],\n",
       "       [14, 16, 18]])"
      ]
     },
     "execution_count": 13,
     "metadata": {},
     "output_type": "execute_result"
    }
   ],
   "source": [
    "first + second "
   ]
  },
  {
   "cell_type": "code",
   "execution_count": 14,
   "id": "feaebeda-fd0d-4391-8f74-96b862de4060",
   "metadata": {},
   "outputs": [
    {
     "data": {
      "text/plain": [
       "np.int64(5)"
      ]
     },
     "execution_count": 14,
     "metadata": {},
     "output_type": "execute_result"
    }
   ],
   "source": [
    "first[1,1]"
   ]
  },
  {
   "cell_type": "code",
   "execution_count": 15,
   "id": "ab81a3ca-2139-4085-9a55-32b4f3348fb4",
   "metadata": {},
   "outputs": [
    {
     "data": {
      "text/plain": [
       "array([[ 1,  2,  3],\n",
       "       [ 4,  5,  6],\n",
       "       [ 7,  8,  9],\n",
       "       [10, 11, 12]])"
      ]
     },
     "execution_count": 15,
     "metadata": {},
     "output_type": "execute_result"
    }
   ],
   "source": [
    "np.concatenate((first, second))"
   ]
  },
  {
   "cell_type": "code",
   "execution_count": 18,
   "id": "f1c0eb2b-e0d7-4330-9eb8-c5adbdd64b59",
   "metadata": {},
   "outputs": [
    {
     "data": {
      "text/plain": [
       "array([[ 1,  2,  3,  7,  8,  9],\n",
       "       [ 4,  5,  6, 10, 11, 12]])"
      ]
     },
     "execution_count": 18,
     "metadata": {},
     "output_type": "execute_result"
    }
   ],
   "source": [
    "np.concatenate((first, second), 1)"
   ]
  },
  {
   "cell_type": "code",
   "execution_count": 24,
   "id": "b0079c5a-31c0-463d-ab66-ef9ff43ad1cc",
   "metadata": {},
   "outputs": [
    {
     "data": {
      "text/plain": [
       "array([1, 2, 3, 4, 5, 5, 7, 8])"
      ]
     },
     "execution_count": 24,
     "metadata": {},
     "output_type": "execute_result"
    }
   ],
   "source": [
    "np.concatenate((\n",
    "    np.array([1,2,3,4]), \n",
    "    np.array([5,5,7,8]), \n",
    "))"
   ]
  },
  {
   "cell_type": "code",
   "execution_count": null,
   "id": "ffd3aba9-9a05-408c-8520-da2b690919cd",
   "metadata": {},
   "outputs": [],
   "source": []
  }
 ],
 "metadata": {
  "kernelspec": {
   "display_name": "Python 3 (ipykernel)",
   "language": "python",
   "name": "python3"
  },
  "language_info": {
   "codemirror_mode": {
    "name": "ipython",
    "version": 3
   },
   "file_extension": ".py",
   "mimetype": "text/x-python",
   "name": "python",
   "nbconvert_exporter": "python",
   "pygments_lexer": "ipython3",
   "version": "3.12.3"
  }
 },
 "nbformat": 4,
 "nbformat_minor": 5
}
