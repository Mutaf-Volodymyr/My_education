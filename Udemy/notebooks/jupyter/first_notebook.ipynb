{
 "cells": [
  {
   "cell_type": "markdown",
   "id": "d4a7d87b-deca-4d36-9b2c-edd6120e7b8b",
   "metadata": {
    "jp-MarkdownHeadingCollapsed": true
   },
   "source": [
    "# First Notebook"
   ]
  },
  {
   "cell_type": "code",
   "execution_count": null,
   "id": "0827a11a-2620-4302-bf7a-60566f9b7874",
   "metadata": {},
   "outputs": [],
   "source": [
    "my_name"
   ]
  },
  {
   "cell_type": "markdown",
   "id": "ac01badf-f40c-439a-b103-67fd5923d383",
   "metadata": {},
   "source": [
    "# Second Section"
   ]
  },
  {
   "cell_type": "code",
   "execution_count": null,
   "id": "cbc8fa57-9208-488d-99b4-2500fdc1fda3",
   "metadata": {},
   "outputs": [],
   "source": [
    "2*3"
   ]
  },
  {
   "cell_type": "code",
   "execution_count": null,
   "id": "6ef42903-b173-4032-ae43-0a308218abf6",
   "metadata": {},
   "outputs": [],
   "source": []
  }
 ],
 "metadata": {
  "kernelspec": {
   "display_name": "Python 3 (ipykernel)",
   "language": "python",
   "name": "python3"
  },
  "language_info": {
   "codemirror_mode": {
    "name": "ipython",
    "version": 3
   },
   "file_extension": ".py",
   "mimetype": "text/x-python",
   "name": "python",
   "nbconvert_exporter": "python",
   "pygments_lexer": "ipython3",
   "version": "3.12.3"
  }
 },
 "nbformat": 4,
 "nbformat_minor": 5
}
